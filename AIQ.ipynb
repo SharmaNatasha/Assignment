{
  "nbformat": 4,
  "nbformat_minor": 0,
  "metadata": {
    "colab": {
      "provenance": [],
      "authorship_tag": "ABX9TyOKJsrey83eFuC6gOeOpQec",
      "include_colab_link": true
    },
    "kernelspec": {
      "name": "python3",
      "display_name": "Python 3"
    },
    "language_info": {
      "name": "python"
    }
  },
  "cells": [
    {
      "cell_type": "markdown",
      "metadata": {
        "id": "view-in-github",
        "colab_type": "text"
      },
      "source": [
        "<a href=\"https://colab.research.google.com/github/SharmaNatasha/Assignment/blob/main/AIQ.ipynb\" target=\"_parent\"><img src=\"https://colab.research.google.com/assets/colab-badge.svg\" alt=\"Open In Colab\"/></a>"
      ]
    },
    {
      "cell_type": "code",
      "source": [
        "!pip install sqlalchemy"
      ],
      "metadata": {
        "id": "OXt5BR0ygyv6"
      },
      "execution_count": null,
      "outputs": []
    },
    {
      "cell_type": "code",
      "source": [
        "import requests\n",
        "import pandas as pd\n",
        "import time\n",
        "import matplotlib.pyplot as plt\n",
        "import seaborn as sns\n",
        "import numpy as np\n",
        "from sqlalchemy import create_engine\n",
        "from sqlalchemy.ext.declarative import declarative_base\n",
        "from sqlalchemy import Column, Integer, String, Float, ForeignKey, Date\n",
        "\n",
        "\n",
        "def get_user_data():\n",
        "    \"\"\"\n",
        "    Fetches user data from JSONPlaceholder API and extracts relevant fields.\n",
        "    \"\"\"\n",
        "    response = requests.get(user_data_url)\n",
        "    user_data = response.json()\n",
        "    user_df = pd.DataFrame(pd.json_normalize(user_data))[[\"id\", \"name\", \"username\", \"email\", \"address.geo.lat\", \"address.geo.lng\"]]\n",
        "    user_df.rename(columns={\"id\": \"customer_id\",\"address.geo.lat\":\"lat\",\"address.geo.lng\":\"lng\"}, inplace=True)\n",
        "    return user_df\n",
        "\n",
        "\n",
        "def get_weather_data(lat, lng):\n",
        "    \"\"\"\n",
        "    Fetches weather data for a given location using OpenWeatherMap API.\n",
        "    \"\"\"\n",
        "    #time.sleep(1)\n",
        "    params = {\"lat\": lat, \"lon\": lng, \"appid\": api_key}\n",
        "    response = requests.get(weather_api_url, params=params)\n",
        "    weather_data = response.json()\n",
        "    # Extract relevant weather information (modify based on your needs)\n",
        "    if \"main\" in weather_data:\n",
        "        return {\n",
        "            \"temperature\": weather_data[\"main\"][\"temp\"],\n",
        "            \"weather_condition\": weather_data[\"weather\"][0][\"main\"],\n",
        "        }\n",
        "    else:\n",
        "        return {\"temperature\": None, \"weather_condition\": None}\n",
        "\n",
        "def transform_data(sales_data_path):\n",
        "    \"\"\"\n",
        "    Transforms sales data by merging with user data and adding weather information.\n",
        "    \"\"\"\n",
        "    # Read sales data\n",
        "    sales_df = pd.read_csv(sales_data_path, parse_dates=['order_date'])\n",
        "    sales_df['order_date'] = pd.to_datetime(sales_df['order_date'])\n",
        "\n",
        "    # Get user data\n",
        "    user_df = get_user_data()\n",
        "\n",
        "    # Merge sales data with user data based on customer_id\n",
        "    merged_df = sales_df.merge(user_df, on=\"customer_id\", how=\"left\")\n",
        "\n",
        "    # Add weather data for each sale\n",
        "    merged_df[\"weather\"] = merged_df.apply(\n",
        "        lambda row: get_weather_data(row[\"lat\"], row[\"lng\"]), axis=1\n",
        "    )\n",
        "    return merged_df\n",
        "\n",
        "def visualise_data(data, chart_type, xlable, ylable, title):\n",
        "  data.plot(kind=chart_type)\n",
        "  plt.xlabel(xlable)\n",
        "  plt.ylabel(ylable)\n",
        "  plt.title(title)\n",
        "  plt.show()\n",
        "\n",
        "def analyze_sales_data(transformed_data):\n",
        "  \"\"\"\n",
        "  Analyzes the transformed sales data and provides insights.\n",
        "  \"\"\"\n",
        "\n",
        "  # Total sales per customer\n",
        "  transformed_data['order_amount']=transformed_data['quantity'] * transformed_data['price']\n",
        "  total_sales_per_customer = transformed_data.groupby('customer_id')['order_amount'].sum()\n",
        "\n",
        "  # Average order quantity per product\n",
        "  avg_order_quantity_per_product = transformed_data.groupby('product_id')['quantity'].mean()\n",
        "\n",
        "  # Top selling products (by total sales)\n",
        "  top_selling_products = transformed_data.groupby('product_id')['order_amount'].sum().sort_values(ascending=False).head(10)\n",
        "\n",
        "  # Top spending customers (by total sales)\n",
        "  top_spending_customers = total_sales_per_customer.sort_values(ascending=False).head(10)\n",
        "\n",
        "  # Analyze sales trends over time\n",
        "  monthly_sales = transformed_data.resample('M', on='order_date')['order_amount'].sum()\n",
        "\n",
        "  # Average sales amount per weather condition\n",
        "  transformed_data['temperature'] = transformed_data['weather'].apply(lambda x: x['temperature'])\n",
        "  transformed_data['weather_condition'] = transformed_data['weather'].apply(lambda x: x['weather_condition'])\n",
        "  transformed_data.drop(columns='weather',inplace=True)\n",
        "\n",
        "  if 'weather_condition' in transformed_data.columns:\n",
        "    avg_sales_per_weather = (\n",
        "        transformed_data.groupby('weather_condition')['order_amount'].mean()\n",
        "    )\n",
        "\n",
        "  # Additional insights\n",
        "  # Top product for each customer\n",
        "  frequent_purchases = transformed_data.groupby(['customer_id','product_id'])['order_amount'].count().sort_values(ascending=False).head(1)\n",
        "\n",
        "  print(\"Top product for each customer\")\n",
        "  print(frequent_purchases)\n",
        "\n",
        "  # Print or visualize the results\n",
        "  print(\"Total Sales per Customer:\")\n",
        "  print(total_sales_per_customer.head())\n",
        "  visualise_data(total_sales_per_customer, \"bar\", \"Customer ID\", \"Total Sales\", \"Total Sales per Customer\")\n",
        "\n",
        "  print(\"\\nAverage Order Quantity per Product:\")\n",
        "  print(avg_order_quantity_per_product.head())\n",
        "  visualise_data(avg_order_quantity_per_product, \"hist\", \"Product ID\", \"Average Order Quantity\", \"Average Order Quantity per Product\")\n",
        "\n",
        "  print(\"\\nTop Selling Products:\")\n",
        "  print(top_selling_products)\n",
        "  visualise_data(top_selling_products, \"bar\", \"Product ID\", \"Total Sales\", \"Top Selling Products\")\n",
        "\n",
        "  print(\"\\nMonthly Sales:\")\n",
        "  print(monthly_sales)\n",
        "  visualise_data(monthly_sales, \"line\", \"Month\", \"Sales\", \"Monthly Sales\")\n",
        "\n",
        "  print(\"\\nTop Spending Customers:\")\n",
        "  print(top_spending_customers)\n",
        "  visualise_data(top_spending_customers, \"bar\", \"Customer ID\", \"Total Sales\", \"Top Spending Customers\")\n",
        "\n",
        "  if 'weather_condition' in transformed_data.columns:\n",
        "      print(\"\\nAverage Sales per Weather Condition:\")\n",
        "      print(avg_sales_per_weather)\n",
        "\n",
        "# Database functions (replace with your connection details)\n",
        "def create_database_engine():\n",
        "  engine = create_engine(\"sqlite+pysqlite:///:memory:\", echo=True, future=True)\n",
        "  return engine\n",
        "\n",
        "def create_table_models():\n",
        "  Base = declarative_base()\n",
        "\n",
        "  class Customer(Base):\n",
        "    __tablename__ = 'Customer_T'\n",
        "    customer_id = Column(Integer, primary_key=True)\n",
        "    name = Column(String(255))\n",
        "    username = Column(String(255))\n",
        "    email = Column(String(255), unique=True)\n",
        "    lat = Column(Float)\n",
        "    lng = Column(Float)\n",
        "\n",
        "\n",
        "  class Sale(Base):\n",
        "    __tablename__ = 'Sales_T'\n",
        "    order_id = Column(Integer, primary_key=True)\n",
        "    customer_id = Column(Integer, ForeignKey('Customer_T.customer_id'))\n",
        "    order_amount = Column(Float)\n",
        "    quantity = Column(Integer)\n",
        "    order_date = Column(Date)\n",
        "    price = Column(String(255))\n",
        "    temperature = Column(Float)\n",
        "    weather_condition = Column(String(255))\n",
        "\n",
        "  return Base, Customer, Sale\n",
        "\n",
        "def store_data(engine, data):\n",
        "  # Assuming 'data' is the processed and merged pandas DataFrame\n",
        "  Base, Customer, Sale = create_table_models()\n",
        "\n",
        "  # Create all tables if they don't exist\n",
        "  Base.metadata.create_all(engine)\n",
        "\n",
        "  # Insert customer data\n",
        "  customer_data = data[[\"customer_id\", \"name\", \"username\", \"email\", \"lat\", \"lng\"]]\n",
        "  customer_data.to_sql(\"customers\", engine, index=False, if_exists='append')\n",
        "\n",
        "  # Insert sale data\n",
        "  sale_data = data[[\"order_id\", \"customer_id\", \"product_id\", \"order_amount\", \"quantity\", \"order_date\", \"price\", \"temperature\", \"weather_condition\"]]\n",
        "  sale_data.to_sql(\"sales\", engine, index=False, if_exists='append')\n",
        "\n",
        "  print(\"Data successfully stored in the database!\")\n",
        "\n",
        "# Replace with your actual CSV file path\n",
        "sales_data_path = \"/content/AIQ - Data Engineer Assignment - Sales data.csv\"\n",
        "\n",
        "# API endpoints\n",
        "user_data_url = \"https://jsonplaceholder.typicode.com/users\"\n",
        "weather_api_url = \"https://api.openweathermap.org/data/2.5/weather\"\n",
        "\n",
        "# Replace with your OpenWeatherMap API key\n",
        "api_key = \"xyz\"\n",
        "\n",
        "transformed_data = transform_data(sales_data_path)\n",
        "analysis_results = analyze_sales_data(transformed_data)\n",
        "\n",
        "engine = create_database_engine()\n",
        "store_data(engine, transformed_data)"
      ],
      "metadata": {
        "colab": {
          "base_uri": "https://localhost:8080/",
          "height": 1000
        },
        "collapsed": true,
        "id": "6yFXSVHB4NwP",
        "outputId": "651b53a6-54c3-421c-d2cf-eb8dc0eb5854"
      },
      "execution_count": 52,
      "outputs": [
        {
          "output_type": "stream",
          "name": "stdout",
          "text": [
            "Top product for each customer\n",
            "customer_id  product_id\n",
            "10           24            8\n",
            "Name: order_amount, dtype: int64\n",
            "Total Sales per Customer:\n",
            "customer_id\n",
            "1    24680.98\n",
            "2    33147.26\n",
            "3    31018.80\n",
            "4    28625.48\n",
            "5    31156.73\n",
            "Name: order_amount, dtype: float64\n"
          ]
        },
        {
          "output_type": "display_data",
          "data": {
            "text/plain": [
              "<Figure size 640x480 with 1 Axes>"
            ],
            "image/png": "[encoded data removed]"
          },
          "metadata": {}
        },
        {
          "output_type": "stream",
          "name": "stdout",
          "text": [
            "\n",
            "Average Order Quantity per Product:\n",
            "product_id\n",
            "1    5.000000\n",
            "2    5.916667\n",
            "3    6.307692\n",
            "4    6.750000\n",
            "5    5.000000\n",
            "Name: quantity, dtype: float64\n"
          ]
        },
        {
          "output_type": "display_data",
          "data": {
            "text/plain": [
              "<Figure size 640x480 with 1 Axes>"
            ],
            "image/png": "[encoded data removed]"
          },
          "metadata": {}
        },
        {
          "output_type": "stream",
          "name": "stdout",
          "text": [
            "\n",
            "Top Selling Products:\n",
            "product_id\n",
            "11    11725.72\n",
            "23     9979.01\n",
            "36     9701.48\n",
            "20     9421.99\n",
            "22     8726.46\n",
            "24     8285.16\n",
            "26     8145.71\n",
            "27     8054.54\n",
            "29     8045.27\n",
            "45     7939.59\n",
            "Name: order_amount, dtype: float64\n"
          ]
        },
        {
          "output_type": "display_data",
          "data": {
            "text/plain": [
              "<Figure size 640x480 with 1 Axes>"
            ],
            "image/png": "[encoded data removed]"
          },
          "metadata": {}
        },
        {
          "output_type": "stream",
          "name": "stdout",
          "text": [
            "\n",
            "Monthly Sales:\n",
            "order_date\n",
            "2022-06-30    25539.24\n",
            "2022-07-31    28217.77\n",
            "2022-08-31    25121.81\n",
            "2022-09-30    26819.41\n",
            "2022-10-31    25448.66\n",
            "2022-11-30    22888.05\n",
            "2022-12-31    29656.92\n",
            "2023-01-31    22724.84\n",
            "2023-02-28    27308.78\n",
            "2023-03-31    24914.67\n",
            "2023-04-30    27713.28\n",
            "2023-05-31    22360.13\n",
            "2023-06-30      427.45\n",
            "Freq: M, Name: order_amount, dtype: float64\n"
          ]
        },
        {
          "output_type": "display_data",
          "data": {
            "text/plain": [
              "<Figure size 640x480 with 1 Axes>"
            ],
            "image/png": "[encoded data removed]"
          },
          "metadata": {}
        },
        {
          "output_type": "stream",
          "name": "stdout",
          "text": [
            "\n",
            "Top Spending Customers:\n",
            "customer_id\n",
            "10    36704.17\n",
            "2     33147.26\n",
            "9     33040.69\n",
            "8     31860.25\n",
            "5     31156.73\n",
            "3     31018.80\n",
            "6     30168.84\n",
            "7     28737.81\n",
            "4     28625.48\n",
            "1     24680.98\n",
            "Name: order_amount, dtype: float64\n"
          ]
        },
        {
          "output_type": "display_data",
          "data": {
            "text/plain": [
              "<Figure size 640x480 with 1 Axes>"
            ],
            "image/png": "[encoded data removed]"
          },
          "metadata": {}
        },
        {
          "output_type": "stream",
          "name": "stdout",
          "text": [
            "\n",
            "Average Sales per Weather Condition:\n",
            "Series([], Name: order_amount, dtype: float64)\n",
            "2024-05-20 19:40:25,430 INFO sqlalchemy.engine.Engine BEGIN (implicit)\n"
          ]
        },
        {
          "output_type": "stream",
          "name": "stderr",
          "text": [
            "<ipython-input-52-4ab218601b21>:136: MovedIn20Warning: The ``declarative_base()`` function is now available as sqlalchemy.orm.declarative_base(). (deprecated since: 2.0) (Background on SQLAlchemy 2.0 at: https://sqlalche.me/e/b8d9)\n",
            "  Base = declarative_base()\n",
            "INFO:sqlalchemy.engine.Engine:BEGIN (implicit)\n"
          ]
        },
        {
          "output_type": "stream",
          "name": "stdout",
          "text": [
            "2024-05-20 19:40:25,436 INFO sqlalchemy.engine.Engine PRAGMA main.table_info(\"Customer_T\")\n"
          ]
        },
        {
          "output_type": "stream",
          "name": "stderr",
          "text": [
            "INFO:sqlalchemy.engine.Engine:PRAGMA main.table_info(\"Customer_T\")\n"
          ]
        },
        {
          "output_type": "stream",
          "name": "stdout",
          "text": [
            "2024-05-20 19:40:25,438 INFO sqlalchemy.engine.Engine [raw sql] ()\n"
          ]
        },
        {
          "output_type": "stream",
          "name": "stderr",
          "text": [
            "INFO:sqlalchemy.engine.Engine:[raw sql] ()\n"
          ]
        },
        {
          "output_type": "stream",
          "name": "stdout",
          "text": [
            "2024-05-20 19:40:25,444 INFO sqlalchemy.engine.Engine PRAGMA temp.table_info(\"Customer_T\")\n"
          ]
        },
        {
          "output_type": "stream",
          "name": "stderr",
          "text": [
            "INFO:sqlalchemy.engine.Engine:PRAGMA temp.table_info(\"Customer_T\")\n"
          ]
        },
        {
          "output_type": "stream",
          "name": "stdout",
          "text": [
            "2024-05-20 19:40:25,447 INFO sqlalchemy.engine.Engine [raw sql] ()\n"
          ]
        },
        {
          "output_type": "stream",
          "name": "stderr",
          "text": [
            "INFO:sqlalchemy.engine.Engine:[raw sql] ()\n"
          ]
        },
        {
          "output_type": "stream",
          "name": "stdout",
          "text": [
            "2024-05-20 19:40:25,450 INFO sqlalchemy.engine.Engine PRAGMA main.table_info(\"Sales_T\")\n"
          ]
        },
        {
          "output_type": "stream",
          "name": "stderr",
          "text": [
            "INFO:sqlalchemy.engine.Engine:PRAGMA main.table_info(\"Sales_T\")\n"
          ]
        },
        {
          "output_type": "stream",
          "name": "stdout",
          "text": [
            "2024-05-20 19:40:25,452 INFO sqlalchemy.engine.Engine [raw sql] ()\n"
          ]
        },
        {
          "output_type": "stream",
          "name": "stderr",
          "text": [
            "INFO:sqlalchemy.engine.Engine:[raw sql] ()\n"
          ]
        },
        {
          "output_type": "stream",
          "name": "stdout",
          "text": [
            "2024-05-20 19:40:25,454 INFO sqlalchemy.engine.Engine PRAGMA temp.table_info(\"Sales_T\")\n"
          ]
        },
        {
          "output_type": "stream",
          "name": "stderr",
          "text": [
            "INFO:sqlalchemy.engine.Engine:PRAGMA temp.table_info(\"Sales_T\")\n"
          ]
        },
        {
          "output_type": "stream",
          "name": "stdout",
          "text": [
            "2024-05-20 19:40:25,456 INFO sqlalchemy.engine.Engine [raw sql] ()\n"
          ]
        },
        {
          "output_type": "stream",
          "name": "stderr",
          "text": [
            "INFO:sqlalchemy.engine.Engine:[raw sql] ()\n"
          ]
        },
        {
          "output_type": "stream",
          "name": "stdout",
          "text": [
            "2024-05-20 19:40:25,462 INFO sqlalchemy.engine.Engine \n",
            "CREATE TABLE \"Customer_T\" (\n",
            "\tcustomer_id INTEGER NOT NULL, \n",
            "\tname VARCHAR(255), \n",
            "\tusername VARCHAR(255), \n",
            "\temail VARCHAR(255), \n",
            "\tlat FLOAT, \n",
            "\tlng FLOAT, \n",
            "\tPRIMARY KEY (customer_id), \n",
            "\tUNIQUE (email)\n",
            ")\n",
            "\n",
            "\n"
          ]
        },
        {
          "output_type": "stream",
          "name": "stderr",
          "text": [
            "INFO:sqlalchemy.engine.Engine:\n",
            "CREATE TABLE \"Customer_T\" (\n",
            "\tcustomer_id INTEGER NOT NULL, \n",
            "\tname VARCHAR(255), \n",
            "\tusername VARCHAR(255), \n",
            "\temail VARCHAR(255), \n",
            "\tlat FLOAT, \n",
            "\tlng FLOAT, \n",
            "\tPRIMARY KEY (customer_id), \n",
            "\tUNIQUE (email)\n",
            ")\n",
            "\n",
            "\n"
          ]
        },
        {
          "output_type": "stream",
          "name": "stdout",
          "text": [
            "2024-05-20 19:40:25,465 INFO sqlalchemy.engine.Engine [no key 0.00258s] ()\n"
          ]
        },
        {
          "output_type": "stream",
          "name": "stderr",
          "text": [
            "INFO:sqlalchemy.engine.Engine:[no key 0.00258s] ()\n"
          ]
        },
        {
          "output_type": "stream",
          "name": "stdout",
          "text": [
            "2024-05-20 19:40:25,468 INFO sqlalchemy.engine.Engine \n",
            "CREATE TABLE \"Sales_T\" (\n",
            "\torder_id INTEGER NOT NULL, \n",
            "\tcustomer_id INTEGER, \n",
            "\torder_amount FLOAT, \n",
            "\tquantity INTEGER, \n",
            "\torder_date DATE, \n",
            "\tprice VARCHAR(255), \n",
            "\ttemperature FLOAT, \n",
            "\tweather_condition VARCHAR(255), \n",
            "\tPRIMARY KEY (order_id), \n",
            "\tFOREIGN KEY(customer_id) REFERENCES \"Customer_T\" (customer_id)\n",
            ")\n",
            "\n",
            "\n"
          ]
        },
        {
          "output_type": "stream",
          "name": "stderr",
          "text": [
            "INFO:sqlalchemy.engine.Engine:\n",
            "CREATE TABLE \"Sales_T\" (\n",
            "\torder_id INTEGER NOT NULL, \n",
            "\tcustomer_id INTEGER, \n",
            "\torder_amount FLOAT, \n",
            "\tquantity INTEGER, \n",
            "\torder_date DATE, \n",
            "\tprice VARCHAR(255), \n",
            "\ttemperature FLOAT, \n",
            "\tweather_condition VARCHAR(255), \n",
            "\tPRIMARY KEY (order_id), \n",
            "\tFOREIGN KEY(customer_id) REFERENCES \"Customer_T\" (customer_id)\n",
            ")\n",
            "\n",
            "\n"
          ]
        },
        {
          "output_type": "stream",
          "name": "stdout",
          "text": [
            "2024-05-20 19:40:25,470 INFO sqlalchemy.engine.Engine [no key 0.00222s] ()\n"
          ]
        },
        {
          "output_type": "stream",
          "name": "stderr",
          "text": [
            "INFO:sqlalchemy.engine.Engine:[no key 0.00222s] ()\n"
          ]
        },
        {
          "output_type": "stream",
          "name": "stdout",
          "text": [
            "2024-05-20 19:40:25,473 INFO sqlalchemy.engine.Engine COMMIT\n"
          ]
        },
        {
          "output_type": "stream",
          "name": "stderr",
          "text": [
            "INFO:sqlalchemy.engine.Engine:COMMIT\n"
          ]
        },
        {
          "output_type": "stream",
          "name": "stdout",
          "text": [
            "2024-05-20 19:40:25,477 INFO sqlalchemy.engine.Engine BEGIN (implicit)\n"
          ]
        },
        {
          "output_type": "stream",
          "name": "stderr",
          "text": [
            "INFO:sqlalchemy.engine.Engine:BEGIN (implicit)\n"
          ]
        },
        {
          "output_type": "stream",
          "name": "stdout",
          "text": [
            "2024-05-20 19:40:25,481 INFO sqlalchemy.engine.Engine PRAGMA main.table_info(\"customers\")\n"
          ]
        },
        {
          "output_type": "stream",
          "name": "stderr",
          "text": [
            "INFO:sqlalchemy.engine.Engine:PRAGMA main.table_info(\"customers\")\n"
          ]
        },
        {
          "output_type": "stream",
          "name": "stdout",
          "text": [
            "2024-05-20 19:40:25,483 INFO sqlalchemy.engine.Engine [raw sql] ()\n"
          ]
        },
        {
          "output_type": "stream",
          "name": "stderr",
          "text": [
            "INFO:sqlalchemy.engine.Engine:[raw sql] ()\n"
          ]
        },
        {
          "output_type": "stream",
          "name": "stdout",
          "text": [
            "2024-05-20 19:40:25,486 INFO sqlalchemy.engine.Engine PRAGMA temp.table_info(\"customers\")\n"
          ]
        },
        {
          "output_type": "stream",
          "name": "stderr",
          "text": [
            "INFO:sqlalchemy.engine.Engine:PRAGMA temp.table_info(\"customers\")\n"
          ]
        },
        {
          "output_type": "stream",
          "name": "stdout",
          "text": [
            "2024-05-20 19:40:25,488 INFO sqlalchemy.engine.Engine [raw sql] ()\n"
          ]
        },
        {
          "output_type": "stream",
          "name": "stderr",
          "text": [
            "INFO:sqlalchemy.engine.Engine:[raw sql] ()\n"
          ]
        },
        {
          "output_type": "stream",
          "name": "stdout",
          "text": [
            "2024-05-20 19:40:25,491 INFO sqlalchemy.engine.Engine \n",
            "CREATE TABLE customers (\n",
            "\tcustomer_id BIGINT, \n",
            "\tname TEXT, \n",
            "\tusername TEXT, \n",
            "\temail TEXT, \n",
            "\tlat TEXT, \n",
            "\tlng TEXT\n",
            ")\n",
            "\n",
            "\n"
          ]
        },
        {
          "output_type": "stream",
          "name": "stderr",
          "text": [
            "INFO:sqlalchemy.engine.Engine:\n",
            "CREATE TABLE customers (\n",
            "\tcustomer_id BIGINT, \n",
            "\tname TEXT, \n",
            "\tusername TEXT, \n",
            "\temail TEXT, \n",
            "\tlat TEXT, \n",
            "\tlng TEXT\n",
            ")\n",
            "\n",
            "\n"
          ]
        },
        {
          "output_type": "stream",
          "name": "stdout",
          "text": [
            "2024-05-20 19:40:25,497 INFO sqlalchemy.engine.Engine [no key 0.00604s] ()\n"
          ]
        },
        {
          "output_type": "stream",
          "name": "stderr",
          "text": [
            "INFO:sqlalchemy.engine.Engine:[no key 0.00604s] ()\n"
          ]
        },
        {
          "output_type": "stream",
          "name": "stdout",
          "text": [
            "2024-05-20 19:40:25,511 INFO sqlalchemy.engine.Engine INSERT INTO customers (customer_id, name, username, email, lat, lng) VALUES (?, ?, ?, ?, ?, ?)\n"
          ]
        },
        {
          "output_type": "stream",
          "name": "stderr",
          "text": [
            "INFO:sqlalchemy.engine.Engine:INSERT INTO customers (customer_id, name, username, email, lat, lng) VALUES (?, ?, ?, ?, ?, ?)\n"
          ]
        },
        {
          "output_type": "stream",
          "name": "stdout",
          "text": [
            "2024-05-20 19:40:25,522 INFO sqlalchemy.engine.Engine [generated in 0.01769s] [(5, 'Chelsey Dietrich', 'Kamren', 'Lucio_Hettinger@annie.ca', '-31.8129', '62.5342'), (8, 'Nicholas Runolfsdottir V', 'Maxime_Nienow', 'Sherwood@rosamond.me', '-14.3990', '-120.7677'), (9, 'Glenna Reichert', 'Delphine', 'Chaim_McDermott@dana.io', '24.6463', '-168.8889'), (5, 'Chelsey Dietrich', 'Kamren', 'Lucio_Hettinger@annie.ca', '-31.8129', '62.5342'), (8, 'Nicholas Runolfsdottir V', 'Maxime_Nienow', 'Sherwood@rosamond.me', '-14.3990', '-120.7677'), (3, 'Clementine Bauch', 'Samantha', 'Nathan@yesenia.net', '-68.6102', '-47.0653'), (10, 'Clementina DuBuque', 'Moriah.Stanton', 'Rey.Padberg@karina.biz', '-38.2386', '57.2232'), (9, 'Glenna Reichert', 'Delphine', 'Chaim_McDermott@dana.io', '24.6463', '-168.8889')  ... displaying 10 of 1000 total bound parameter sets ...  (9, 'Glenna Reichert', 'Delphine', 'Chaim_McDermott@dana.io', '24.6463', '-168.8889'), (4, 'Patricia Lebsack', 'Karianne', 'Julianne.OConner@kory.org', '29.4572', '-164.2990')]\n"
          ]
        },
        {
          "output_type": "stream",
          "name": "stderr",
          "text": [
            "INFO:sqlalchemy.engine.Engine:[generated in 0.01769s] [(5, 'Chelsey Dietrich', 'Kamren', 'Lucio_Hettinger@annie.ca', '-31.8129', '62.5342'), (8, 'Nicholas Runolfsdottir V', 'Maxime_Nienow', 'Sherwood@rosamond.me', '-14.3990', '-120.7677'), (9, 'Glenna Reichert', 'Delphine', 'Chaim_McDermott@dana.io', '24.6463', '-168.8889'), (5, 'Chelsey Dietrich', 'Kamren', 'Lucio_Hettinger@annie.ca', '-31.8129', '62.5342'), (8, 'Nicholas Runolfsdottir V', 'Maxime_Nienow', 'Sherwood@rosamond.me', '-14.3990', '-120.7677'), (3, 'Clementine Bauch', 'Samantha', 'Nathan@yesenia.net', '-68.6102', '-47.0653'), (10, 'Clementina DuBuque', 'Moriah.Stanton', 'Rey.Padberg@karina.biz', '-38.2386', '57.2232'), (9, 'Glenna Reichert', 'Delphine', 'Chaim_McDermott@dana.io', '24.6463', '-168.8889')  ... displaying 10 of 1000 total bound parameter sets ...  (9, 'Glenna Reichert', 'Delphine', 'Chaim_McDermott@dana.io', '24.6463', '-168.8889'), (4, 'Patricia Lebsack', 'Karianne', 'Julianne.OConner@kory.org', '29.4572', '-164.2990')]\n"
          ]
        },
        {
          "output_type": "stream",
          "name": "stdout",
          "text": [
            "2024-05-20 19:40:25,528 INFO sqlalchemy.engine.Engine COMMIT\n"
          ]
        },
        {
          "output_type": "stream",
          "name": "stderr",
          "text": [
            "INFO:sqlalchemy.engine.Engine:COMMIT\n"
          ]
        },
        {
          "output_type": "stream",
          "name": "stdout",
          "text": [
            "2024-05-20 19:40:25,533 INFO sqlalchemy.engine.Engine BEGIN (implicit)\n"
          ]
        },
        {
          "output_type": "stream",
          "name": "stderr",
          "text": [
            "INFO:sqlalchemy.engine.Engine:BEGIN (implicit)\n"
          ]
        },
        {
          "output_type": "stream",
          "name": "stdout",
          "text": [
            "2024-05-20 19:40:25,540 INFO sqlalchemy.engine.Engine PRAGMA main.table_info(\"sales\")\n"
          ]
        },
        {
          "output_type": "stream",
          "name": "stderr",
          "text": [
            "INFO:sqlalchemy.engine.Engine:PRAGMA main.table_info(\"sales\")\n"
          ]
        },
        {
          "output_type": "stream",
          "name": "stdout",
          "text": [
            "2024-05-20 19:40:25,546 INFO sqlalchemy.engine.Engine [raw sql] ()\n"
          ]
        },
        {
          "output_type": "stream",
          "name": "stderr",
          "text": [
            "INFO:sqlalchemy.engine.Engine:[raw sql] ()\n"
          ]
        },
        {
          "output_type": "stream",
          "name": "stdout",
          "text": [
            "2024-05-20 19:40:25,548 INFO sqlalchemy.engine.Engine PRAGMA temp.table_info(\"sales\")\n"
          ]
        },
        {
          "output_type": "stream",
          "name": "stderr",
          "text": [
            "INFO:sqlalchemy.engine.Engine:PRAGMA temp.table_info(\"sales\")\n"
          ]
        },
        {
          "output_type": "stream",
          "name": "stdout",
          "text": [
            "2024-05-20 19:40:25,550 INFO sqlalchemy.engine.Engine [raw sql] ()\n"
          ]
        },
        {
          "output_type": "stream",
          "name": "stderr",
          "text": [
            "INFO:sqlalchemy.engine.Engine:[raw sql] ()\n"
          ]
        },
        {
          "output_type": "stream",
          "name": "stdout",
          "text": [
            "2024-05-20 19:40:25,554 INFO sqlalchemy.engine.Engine \n",
            "CREATE TABLE sales (\n",
            "\torder_id BIGINT, \n",
            "\tcustomer_id BIGINT, \n",
            "\tproduct_id BIGINT, \n",
            "\torder_amount FLOAT, \n",
            "\tquantity BIGINT, \n",
            "\torder_date DATETIME, \n",
            "\tprice FLOAT, \n",
            "\ttemperature TEXT, \n",
            "\tweather_condition TEXT\n",
            ")\n",
            "\n",
            "\n"
          ]
        },
        {
          "output_type": "stream",
          "name": "stderr",
          "text": [
            "INFO:sqlalchemy.engine.Engine:\n",
            "CREATE TABLE sales (\n",
            "\torder_id BIGINT, \n",
            "\tcustomer_id BIGINT, \n",
            "\tproduct_id BIGINT, \n",
            "\torder_amount FLOAT, \n",
            "\tquantity BIGINT, \n",
            "\torder_date DATETIME, \n",
            "\tprice FLOAT, \n",
            "\ttemperature TEXT, \n",
            "\tweather_condition TEXT\n",
            ")\n",
            "\n",
            "\n"
          ]
        },
        {
          "output_type": "stream",
          "name": "stdout",
          "text": [
            "2024-05-20 19:40:25,557 INFO sqlalchemy.engine.Engine [no key 0.00235s] ()\n"
          ]
        },
        {
          "output_type": "stream",
          "name": "stderr",
          "text": [
            "INFO:sqlalchemy.engine.Engine:[no key 0.00235s] ()\n"
          ]
        },
        {
          "output_type": "stream",
          "name": "stdout",
          "text": [
            "2024-05-20 19:40:25,607 INFO sqlalchemy.engine.Engine INSERT INTO sales (order_id, customer_id, product_id, order_amount, quantity, order_date, price, temperature, weather_condition) VALUES (?, ?, ?, ?, ?, ?, ?, ?, ?)\n"
          ]
        },
        {
          "output_type": "stream",
          "name": "stderr",
          "text": [
            "INFO:sqlalchemy.engine.Engine:INSERT INTO sales (order_id, customer_id, product_id, order_amount, quantity, order_date, price, temperature, weather_condition) VALUES (?, ?, ?, ?, ?, ?, ?, ?, ?)\n"
          ]
        },
        {
          "output_type": "stream",
          "name": "stdout",
          "text": [
            "2024-05-20 19:40:25,612 INFO sqlalchemy.engine.Engine [generated in 0.04676s] [(2334, 5, 40, 106.80000000000001, 3, '2022-06-21 00:00:00.000000', 35.6, None, None), (6228, 8, 13, 255.64000000000001, 7, '2023-03-08 00:00:00.000000', 36.52, None, None), (7784, 9, 44, 186.24, 4, '2023-04-22 00:00:00.000000', 46.56, None, None), (6588, 5, 26, 15.87, 1, '2022-10-23 00:00:00.000000', 15.87, None, None), (5910, 8, 32, 770.0, 10, '2022-10-05 00:00:00.000000', 77.0, None, None), (3983, 3, 11, 340.16, 4, '2022-11-25 00:00:00.000000', 85.04, None, None), (9464, 10, 15, 272.46, 6, '2023-03-25 00:00:00.000000', 45.41, None, None), (8272, 9, 11, 71.7, 1, '2022-09-10 00:00:00.000000', 71.7, None, None)  ... displaying 10 of 1000 total bound parameter sets ...  (5921, 9, 37, 476.01, 9, '2022-09-22 00:00:00.000000', 52.89, None, None), (8395, 4, 16, 322.63, 7, '2022-06-10 00:00:00.000000', 46.09, None, None)]\n"
          ]
        },
        {
          "output_type": "stream",
          "name": "stderr",
          "text": [
            "INFO:sqlalchemy.engine.Engine:[generated in 0.04676s] [(2334, 5, 40, 106.80000000000001, 3, '2022-06-21 00:00:00.000000', 35.6, None, None), (6228, 8, 13, 255.64000000000001, 7, '2023-03-08 00:00:00.000000', 36.52, None, None), (7784, 9, 44, 186.24, 4, '2023-04-22 00:00:00.000000', 46.56, None, None), (6588, 5, 26, 15.87, 1, '2022-10-23 00:00:00.000000', 15.87, None, None), (5910, 8, 32, 770.0, 10, '2022-10-05 00:00:00.000000', 77.0, None, None), (3983, 3, 11, 340.16, 4, '2022-11-25 00:00:00.000000', 85.04, None, None), (9464, 10, 15, 272.46, 6, '2023-03-25 00:00:00.000000', 45.41, None, None), (8272, 9, 11, 71.7, 1, '2022-09-10 00:00:00.000000', 71.7, None, None)  ... displaying 10 of 1000 total bound parameter sets ...  (5921, 9, 37, 476.01, 9, '2022-09-22 00:00:00.000000', 52.89, None, None), (8395, 4, 16, 322.63, 7, '2022-06-10 00:00:00.000000', 46.09, None, None)]\n"
          ]
        },
        {
          "output_type": "stream",
          "name": "stdout",
          "text": [
            "2024-05-20 19:40:25,620 INFO sqlalchemy.engine.Engine COMMIT\n"
          ]
        },
        {
          "output_type": "stream",
          "name": "stderr",
          "text": [
            "INFO:sqlalchemy.engine.Engine:COMMIT\n"
          ]
        },
        {
          "output_type": "stream",
          "name": "stdout",
          "text": [
            "Data successfully stored in the database!\n"
          ]
        }
      ]
    },
    {
      "cell_type": "code",
      "source": [],
      "metadata": {
        "id": "mppdUx18ghWD"
      },
      "execution_count": null,
      "outputs": []
    }
  ]
}